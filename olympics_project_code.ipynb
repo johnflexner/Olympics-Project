{
 "cells": [
  {
   "cell_type": "markdown",
   "id": "52d9080d",
   "metadata": {},
   "source": [
    "# Team Machine Learning Project: 2020/2021 Tokyo Olympics"
   ]
  },
  {
   "cell_type": "code",
   "execution_count": 1,
   "id": "70cce3e2",
   "metadata": {},
   "outputs": [
    {
     "name": "stdout",
     "output_type": "stream",
     "text": [
      "did this work\n"
     ]
    }
   ],
   "source": [
    "# just making an edit\n",
    "print(\"did this work\")"
   ]
  },
  {
   "cell_type": "code",
   "execution_count": 1,
   "id": "0652dead",
   "metadata": {},
   "outputs": [
    {
     "name": "stdout",
     "output_type": "stream",
     "text": [
      "Hello Everybody\n"
     ]
    }
   ],
   "source": [
    "# Here's some code that does stuff:\n",
    "print(\"Hello Everybody\")"
   ]
  }
 ],
 "metadata": {
  "kernelspec": {
   "display_name": "Python 3",
   "language": "python",
   "name": "python3"
  },
  "language_info": {
   "codemirror_mode": {
    "name": "ipython",
    "version": 3
   },
   "file_extension": ".py",
   "mimetype": "text/x-python",
   "name": "python",
   "nbconvert_exporter": "python",
   "pygments_lexer": "ipython3",
   "version": "3.8.8"
  }
 },
 "nbformat": 4,
 "nbformat_minor": 5
}
