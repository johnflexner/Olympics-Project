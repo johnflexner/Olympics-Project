{
 "cells": [
  {
   "cell_type": "code",
   "execution_count": 36,
   "id": "06979827",
   "metadata": {},
   "outputs": [],
   "source": [
    "import pandas as pd\n",
    "import matplotlib.pyplot as plt\n",
    "import numpy as np\n",
    "from sklearn.linear_model import LinearRegression\n",
    "import os\n",
    "\n",
    "import geopandas as gpd\n",
    "from geopandas import GeoDataFrame\n",
    "import geoplot\n",
    "from shapely.geometry import Point"
   ]
  },
  {
   "cell_type": "code",
   "execution_count": 166,
   "id": "0f9f9210",
   "metadata": {
    "scrolled": false
   },
   "outputs": [
    {
     "name": "stdout",
     "output_type": "stream",
     "text": [
      "                     Countries  Number of Medals  Number of Athletes  \\\n",
      "0     United States of America                77                 615   \n",
      "1                        Japan                40                 586   \n",
      "2                    Australia                36                 470   \n",
      "3   People's Republic of China                70                 401   \n",
      "4                      Germany                32                 400   \n",
      "..                         ...               ...                 ...   \n",
      "80                Turkmenistan                 1                   8   \n",
      "81             North Macedonia                 1                   8   \n",
      "82        Syrian Arab Republic                 1                   6   \n",
      "83                  San Marino                 2                   4   \n",
      "84                     Bermuda                 1                   2   \n",
      "\n",
      "    Count of Discipline/Sport  Number of Teams        GDP  \n",
      "0                          28               47  20940.000  \n",
      "1                          35               48   5065.000  \n",
      "2                          22               35   1331.000  \n",
      "3                          12               33  14720.000  \n",
      "4                           9               36   3806.000  \n",
      "..                        ...              ...        ...  \n",
      "80                          1                8     45.230  \n",
      "81                          9                8     12.270  \n",
      "82                          1                6     40.410  \n",
      "83                          2                4      1.616  \n",
      "84                          1                2      7.484  \n",
      "\n",
      "[85 rows x 6 columns]\n"
     ]
    },
    {
     "data": {
      "text/html": [
       "<div>\n",
       "<style scoped>\n",
       "    .dataframe tbody tr th:only-of-type {\n",
       "        vertical-align: middle;\n",
       "    }\n",
       "\n",
       "    .dataframe tbody tr th {\n",
       "        vertical-align: top;\n",
       "    }\n",
       "\n",
       "    .dataframe thead th {\n",
       "        text-align: right;\n",
       "    }\n",
       "</style>\n",
       "<table border=\"1\" class=\"dataframe\">\n",
       "  <thead>\n",
       "    <tr style=\"text-align: right;\">\n",
       "      <th></th>\n",
       "      <th>Number of Medals</th>\n",
       "      <th>Number of Athletes</th>\n",
       "      <th>Count of Discipline/Sport</th>\n",
       "      <th>Number of Teams</th>\n",
       "      <th>GDP</th>\n",
       "    </tr>\n",
       "  </thead>\n",
       "  <tbody>\n",
       "    <tr>\n",
       "      <th>count</th>\n",
       "      <td>85.000000</td>\n",
       "      <td>85.000000</td>\n",
       "      <td>85.000000</td>\n",
       "      <td>85.000000</td>\n",
       "      <td>85.000000</td>\n",
       "    </tr>\n",
       "    <tr>\n",
       "      <th>mean</th>\n",
       "      <td>9.047059</td>\n",
       "      <td>118.317647</td>\n",
       "      <td>5.011765</td>\n",
       "      <td>11.976471</td>\n",
       "      <td>939.944188</td>\n",
       "    </tr>\n",
       "    <tr>\n",
       "      <th>std</th>\n",
       "      <td>14.491299</td>\n",
       "      <td>134.120523</td>\n",
       "      <td>6.348030</td>\n",
       "      <td>12.968805</td>\n",
       "      <td>2816.504979</td>\n",
       "    </tr>\n",
       "    <tr>\n",
       "      <th>min</th>\n",
       "      <td>1.000000</td>\n",
       "      <td>2.000000</td>\n",
       "      <td>1.000000</td>\n",
       "      <td>1.000000</td>\n",
       "      <td>1.616000</td>\n",
       "    </tr>\n",
       "    <tr>\n",
       "      <th>25%</th>\n",
       "      <td>2.000000</td>\n",
       "      <td>35.000000</td>\n",
       "      <td>1.000000</td>\n",
       "      <td>3.000000</td>\n",
       "      <td>55.970000</td>\n",
       "    </tr>\n",
       "    <tr>\n",
       "      <th>50%</th>\n",
       "      <td>3.000000</td>\n",
       "      <td>66.000000</td>\n",
       "      <td>2.000000</td>\n",
       "      <td>6.000000</td>\n",
       "      <td>212.500000</td>\n",
       "    </tr>\n",
       "    <tr>\n",
       "      <th>75%</th>\n",
       "      <td>8.000000</td>\n",
       "      <td>133.000000</td>\n",
       "      <td>6.000000</td>\n",
       "      <td>16.000000</td>\n",
       "      <td>537.600000</td>\n",
       "    </tr>\n",
       "    <tr>\n",
       "      <th>max</th>\n",
       "      <td>77.000000</td>\n",
       "      <td>615.000000</td>\n",
       "      <td>35.000000</td>\n",
       "      <td>48.000000</td>\n",
       "      <td>20940.000000</td>\n",
       "    </tr>\n",
       "  </tbody>\n",
       "</table>\n",
       "</div>"
      ],
      "text/plain": [
       "       Number of Medals  Number of Athletes  Count of Discipline/Sport  \\\n",
       "count         85.000000           85.000000                  85.000000   \n",
       "mean           9.047059          118.317647                   5.011765   \n",
       "std           14.491299          134.120523                   6.348030   \n",
       "min            1.000000            2.000000                   1.000000   \n",
       "25%            2.000000           35.000000                   1.000000   \n",
       "50%            3.000000           66.000000                   2.000000   \n",
       "75%            8.000000          133.000000                   6.000000   \n",
       "max           77.000000          615.000000                  35.000000   \n",
       "\n",
       "       Number of Teams           GDP  \n",
       "count        85.000000     85.000000  \n",
       "mean         11.976471    939.944188  \n",
       "std          12.968805   2816.504979  \n",
       "min           1.000000      1.616000  \n",
       "25%           3.000000     55.970000  \n",
       "50%           6.000000    212.500000  \n",
       "75%          16.000000    537.600000  \n",
       "max          48.000000  20940.000000  "
      ]
     },
     "execution_count": 166,
     "metadata": {},
     "output_type": "execute_result"
    }
   ],
   "source": [
    "df = pd.read_csv(r'C:\\Users\\Devin\\Documents\\Olympics_2021.csv')\n",
    "print(df)\n",
    "df.describe()\n"
   ]
  },
  {
   "cell_type": "code",
   "execution_count": 26,
   "id": "ec23d976",
   "metadata": {},
   "outputs": [
    {
     "name": "stdout",
     "output_type": "stream",
     "text": [
      "https://github.com/johnflexner/Olympics-Project/blob/main/AthletesMedalsClean.csv\n"
     ]
    }
   ],
   "source": [
    "stuff='https://github.com/johnflexner/Olympics-Project/blob/main/AthletesMedalsClean.csv'\n",
    "print(stuff)"
   ]
  },
  {
   "cell_type": "code",
   "execution_count": null,
   "id": "ac288df9",
   "metadata": {},
   "outputs": [],
   "source": []
  },
  {
   "cell_type": "code",
   "execution_count": 55,
   "id": "f729188c",
   "metadata": {
    "scrolled": false
   },
   "outputs": [
    {
     "data": {
      "text/plain": [
       "Text(0, 0.5, 'Number of Medals per Country')"
      ]
     },
     "execution_count": 55,
     "metadata": {},
     "output_type": "execute_result"
    },
    {
     "data": {
      "image/png": "[encoded data removed]",
      "text/plain": [
       "<Figure size 432x288 with 1 Axes>"
      ]
     },
     "metadata": {
      "needs_background": "light"
     },
     "output_type": "display_data"
    }
   ],
   "source": [
    "df.head(10)\n",
    "plt.plot(df['Number of Athletes'], df['Number of Medals'], marker='o', linestyle='none')\n"
   ]
  },
  {
   "cell_type": "code",
   "execution_count": 6,
   "id": "f216bcdb",
   "metadata": {},
   "outputs": [
    {
     "name": "stderr",
     "output_type": "stream",
     "text": [
      "C:\\Users\\Devin\\AppData\\Local\\Temp\\ipykernel_65984\\1623064487.py:1: FutureWarning: Support for multi-dimensional indexing (e.g. `obj[:, None]`) is deprecated and will be removed in a future version.  Convert to a numpy array before indexing instead.\n",
      "  X = x[:, np.newaxis]\n"
     ]
    },
    {
     "data": {
      "text/plain": [
       "(85, 1)"
      ]
     },
     "execution_count": 6,
     "metadata": {},
     "output_type": "execute_result"
    }
   ],
   "source": [
    "X_ath = x_ath[:, np.newaxis]\n",
    "X_ath.shape"
   ]
  },
  {
   "cell_type": "code",
   "execution_count": 185,
   "id": "4e93c57b",
   "metadata": {},
   "outputs": [
    {
     "data": {
      "text/plain": [
       "Text(0, 0.5, 'Medals per Country')"
      ]
     },
     "execution_count": 185,
     "metadata": {},
     "output_type": "execute_result"
    },
    {
     "data": {
      "image/png": "[encoded data removed]",
      "text/plain": [
       "<Figure size 864x360 with 4 Axes>"
      ]
     },
     "metadata": {
      "needs_background": "light"
     },
     "output_type": "display_data"
    }
   ],
   "source": [
    "grid = plt.GridSpec(2, 4, wspace=0.5, hspace=0.75)\n",
    "plt.figure(figsize=(12,5))\n",
    "x_ath = df['Number of Athletes']\n",
    "x_cod = df['Count of Discipline/Sport']\n",
    "x_gdp = df['GDP']\n",
    "x_team = df['Number of Teams']\n",
    "y = df['Number of Medals']\n",
    "\n",
    "plt.subplot(grid[0, 0])\n",
    "plt.scatter(df['Number of Athletes'], y, color='blue')\n",
    "plt.xlabel('Athletes per Country')\n",
    "plt.ylabel('Medals per Country')\n",
    "\n",
    "plt.subplot(grid[0 ,1])\n",
    "plt.scatter(df['Count of Discipline/Sport'], y, color='red')\n",
    "plt.xlabel('Disciplines per Country')\n",
    "plt.ylabel('Medals per Country')\n",
    "\n",
    "plt.subplot(grid[1 ,1])\n",
    "plt.scatter(df['Number of Teams'], y, color= 'orange')\n",
    "plt.xlabel('Teams per Country')\n",
    "plt.ylabel('Medals per Country')\n",
    "\n",
    "plt.subplot(grid[1, 0])\n",
    "plt.scatter(df['GDP'], y, color='green')\n",
    "plt.xlabel('GDP of Country')\n",
    "plt.ylabel('Medals per Country')\n"
   ]
  },
  {
   "cell_type": "code",
   "execution_count": 181,
   "id": "f4baef34",
   "metadata": {},
   "outputs": [
    {
     "name": "stderr",
     "output_type": "stream",
     "text": [
      "C:\\Users\\Devin\\AppData\\Local\\Temp\\ipykernel_65984\\2873026847.py:2: FutureWarning: Support for multi-dimensional indexing (e.g. `obj[:, None]`) is deprecated and will be removed in a future version.  Convert to a numpy array before indexing instead.\n",
      "  X_ath = x_ath[:, np.newaxis]\n"
     ]
    },
    {
     "name": "stdout",
     "output_type": "stream",
     "text": [
      "[0.09280544]\n",
      "-1.9334624533639353\n",
      "73.777 % of the variation in number of medals a country wins can be explain by the number of athletes each country sends.\n"
     ]
    },
    {
     "data": {
      "image/png": "[encoded data removed]",
      "text/plain": [
       "<Figure size 432x288 with 1 Axes>"
      ]
     },
     "metadata": {
      "needs_background": "light"
     },
     "output_type": "display_data"
    }
   ],
   "source": [
    "model1 = LinearRegression(fit_intercept=True)\n",
    "X_ath = x_ath[:, np.newaxis]\n",
    "X_ath.shape\n",
    "model1.fit(X_ath,y)\n",
    "print(model1.coef_)\n",
    "print(model1.intercept_)\n",
    "xfit = np.linspace(-2, 700)\n",
    "Xfit = xfit[:, np.newaxis]\n",
    "yfit = model1.predict(Xfit)\n",
    "plt.scatter(x_ath, y, color='blue')\n",
    "plt.plot(Xfit, yfit, color='black');\n",
    "plt.xlabel('Athletes per Country')\n",
    "plt.ylabel('Medals per Country')\n",
    "\n",
    "correlation_matrix = np.corrcoef(x_ath, y)\n",
    "correlation_xy = correlation_matrix[0,1]\n",
    "r_squared = correlation_xy**2\n",
    "print(round(r_squared*100, 3), '% of the variation in number of medals a country wins can be explain by the number of athletes each country sends.')\n"
   ]
  },
  {
   "cell_type": "code",
   "execution_count": 183,
   "id": "138be7a2",
   "metadata": {},
   "outputs": [
    {
     "name": "stderr",
     "output_type": "stream",
     "text": [
      "C:\\Users\\Devin\\AppData\\Local\\Temp\\ipykernel_65984\\1846209375.py:2: FutureWarning: Support for multi-dimensional indexing (e.g. `obj[:, None]`) is deprecated and will be removed in a future version.  Convert to a numpy array before indexing instead.\n",
      "  X_cod = x_cod[:, np.newaxis]\n"
     ]
    },
    {
     "name": "stdout",
     "output_type": "stream",
     "text": [
      "[1.53558966]\n",
      "1.3510447512199182\n",
      "45.249 % of the variation in number of medals a country wins can be explain by the number of disciplines a country participates in.\n"
     ]
    },
    {
     "data": {
      "image/png": "[encoded data removed]",
      "text/plain": [
       "<Figure size 432x288 with 1 Axes>"
      ]
     },
     "metadata": {
      "needs_background": "light"
     },
     "output_type": "display_data"
    }
   ],
   "source": [
    "model2 = LinearRegression(fit_intercept=True)\n",
    "X_cod = x_cod[:, np.newaxis]\n",
    "X_cod.shape\n",
    "model2.fit(X_cod,y)\n",
    "print(model2.coef_)\n",
    "print(model2.intercept_)\n",
    "xfit = np.linspace(1, 50)\n",
    "Xfit = xfit[:, np.newaxis]\n",
    "yfit = model2.predict(Xfit)\n",
    "plt.scatter(x_cod, y, color='red')\n",
    "plt.plot(Xfit, yfit);\n",
    "plt.xlabel('Disciplines per Country')\n",
    "plt.ylabel('Medals per Country')\n",
    "\n",
    "correlation_matrix = np.corrcoef(x_cod, y)\n",
    "correlation_xy = correlation_matrix[0,1]\n",
    "r_squared = correlation_xy**2\n",
    "print(round(r_squared*100, 3), '% of the variation in number of medals a country wins can be explain by the number of disciplines a country participates in.')"
   ]
  },
  {
   "cell_type": "code",
   "execution_count": 182,
   "id": "a5e3c7bb",
   "metadata": {},
   "outputs": [
    {
     "name": "stderr",
     "output_type": "stream",
     "text": [
      "C:\\Users\\Devin\\AppData\\Local\\Temp\\ipykernel_65984\\3762900027.py:2: FutureWarning: Support for multi-dimensional indexing (e.g. `obj[:, None]`) is deprecated and will be removed in a future version.  Convert to a numpy array before indexing instead.\n",
      "  X_gdp = x_gdp[:, np.newaxis]\n"
     ]
    },
    {
     "name": "stdout",
     "output_type": "stream",
     "text": [
      "[0.00422817]\n",
      "5.072816551201039\n",
      "67.532 % of the variation in number of medals a country wins can be explained by the GDP of a country\n"
     ]
    },
    {
     "data": {
      "image/png": "[encoded data removed]",
      "text/plain": [
       "<Figure size 432x288 with 1 Axes>"
      ]
     },
     "metadata": {
      "needs_background": "light"
     },
     "output_type": "display_data"
    }
   ],
   "source": [
    "model3 = LinearRegression(fit_intercept=True)\n",
    "X_gdp = x_gdp[:, np.newaxis]\n",
    "X_gdp.shape\n",
    "model3.fit(X_gdp,y)\n",
    "print(model3.coef_)\n",
    "print(model3.intercept_)\n",
    "xfit = np.linspace(5, 22000)\n",
    "Xfit = xfit[:, np.newaxis]\n",
    "yfit = model3.predict(Xfit)\n",
    "plt.scatter(x_gdp, y, color='green')\n",
    "plt.plot(Xfit, yfit);\n",
    "plt.xlabel('GDP of Country')\n",
    "plt.ylabel('Medals per Country')\n",
    "\n",
    "correlation_matrix = np.corrcoef(x_gdp, y)\n",
    "correlation_xy = correlation_matrix[0,1]\n",
    "r_squared = correlation_xy**2\n",
    "print(round(r_squared*100, 3), '% of the variation in number of medals a country wins can be explained by the GDP of a country')\n"
   ]
  },
  {
   "cell_type": "code",
   "execution_count": 184,
   "id": "49e38893",
   "metadata": {},
   "outputs": [
    {
     "name": "stderr",
     "output_type": "stream",
     "text": [
      "C:\\Users\\Devin\\AppData\\Local\\Temp\\ipykernel_65984\\3698995857.py:2: FutureWarning: Support for multi-dimensional indexing (e.g. `obj[:, None]`) is deprecated and will be removed in a future version.  Convert to a numpy array before indexing instead.\n",
      "  X_team = x_team [:, np.newaxis]\n"
     ]
    },
    {
     "name": "stdout",
     "output_type": "stream",
     "text": [
      "[0.74130302]\n",
      "0.1688650618381864\n",
      "44.013 % of the variation in number of medals a country wins can be explained by the amount of team events a country participated in.\n"
     ]
    },
    {
     "data": {
      "image/png": "[encoded data removed]",
      "text/plain": [
       "<Figure size 432x288 with 1 Axes>"
      ]
     },
     "metadata": {
      "needs_background": "light"
     },
     "output_type": "display_data"
    }
   ],
   "source": [
    "model4 = LinearRegression(fit_intercept=True)\n",
    "X_team = x_team [:, np.newaxis]\n",
    "X_team.shape\n",
    "model4.fit(X_team,y)\n",
    "print(model4.coef_)\n",
    "print(model4.intercept_)\n",
    "xfit = np.linspace(0, 50)\n",
    "Xfit = xfit[:, np.newaxis]\n",
    "yfit = model4.predict(Xfit)\n",
    "plt.scatter(x_team , y, color='orange')\n",
    "plt.plot(Xfit, yfit);\n",
    "plt.xlabel('Teams per Country')\n",
    "plt.ylabel('Medals per Country')\n",
    "\n",
    "correlation_matrix = np.corrcoef(x_team, y)\n",
    "correlation_xy = correlation_matrix[0,1]\n",
    "r_squared = correlation_xy**2\n",
    "print(round(r_squared*100, 3), '% of the variation in number of medals a country wins can be explained by the amount of team events a country participated in.')\n"
   ]
  },
  {
   "cell_type": "code",
   "execution_count": null,
   "id": "6a99bc85",
   "metadata": {},
   "outputs": [],
   "source": [
    "\n"
   ]
  },
  {
   "cell_type": "code",
   "execution_count": null,
   "id": "2d6a9173",
   "metadata": {},
   "outputs": [],
   "source": []
  },
  {
   "cell_type": "code",
   "execution_count": null,
   "id": "ea7c1473",
   "metadata": {},
   "outputs": [],
   "source": []
  },
  {
   "cell_type": "code",
   "execution_count": null,
   "id": "7d7b13a9",
   "metadata": {
    "scrolled": true
   },
   "outputs": [],
   "source": []
  },
  {
   "cell_type": "code",
   "execution_count": null,
   "id": "ea837afa",
   "metadata": {},
   "outputs": [],
   "source": []
  },
  {
   "cell_type": "code",
   "execution_count": null,
   "id": "dceb7838",
   "metadata": {},
   "outputs": [],
   "source": []
  },
  {
   "cell_type": "code",
   "execution_count": null,
   "id": "4a646e7d",
   "metadata": {},
   "outputs": [],
   "source": []
  },
  {
   "cell_type": "code",
   "execution_count": null,
   "id": "94e14600",
   "metadata": {},
   "outputs": [],
   "source": []
  },
  {
   "cell_type": "code",
   "execution_count": null,
   "id": "5d95c782",
   "metadata": {},
   "outputs": [],
   "source": []
  }
 ],
 "metadata": {
  "kernelspec": {
   "display_name": "geo_env",
   "language": "python",
   "name": "geo_env"
  },
  "language_info": {
   "codemirror_mode": {
    "name": "ipython",
    "version": 3
   },
   "file_extension": ".py",
   "mimetype": "text/x-python",
   "name": "python",
   "nbconvert_exporter": "python",
   "pygments_lexer": "ipython3",
   "version": "3.10.2"
  }
 },
 "nbformat": 4,
 "nbformat_minor": 5
}
